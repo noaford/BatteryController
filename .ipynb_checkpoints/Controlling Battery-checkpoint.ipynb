{
 "cells": [
  {
   "cell_type": "code",
   "execution_count": 1,
   "metadata": {
    "collapsed": true
   },
   "outputs": [],
   "source": [
    "import pandas as pd\n",
    "import numpy as np\n",
    "from pandas import ExcelWriter\n",
    "from pandas import ExcelFile\n",
    "import requests\n",
    "import matplotlib.pyplot as plt\n",
    "from scipy.stats import pearsonr\n"
   ]
  },
  {
   "cell_type": "code",
   "execution_count": 2,
   "metadata": {},
   "outputs": [
    {
     "data": {
      "text/plain": [
       "(8639,)"
      ]
     },
     "execution_count": 2,
     "metadata": {},
     "output_type": "execute_result"
    }
   ],
   "source": [
    "#Import electricity usage data\n",
    "#Data begins January 23rd 2018 at midnight\n",
    "from numpy import genfromtxt\n",
    "usage = genfromtxt('usage.csv', delimiter=',')\n",
    "usage.shape"
   ]
  },
  {
   "cell_type": "code",
   "execution_count": 4,
   "metadata": {},
   "outputs": [
    {
     "name": "stdout",
     "output_type": "stream",
     "text": [
      "<Response [200]>\n"
     ]
    }
   ],
   "source": [
    "#Get historical energy price data from ComEd\n",
    "#Data begins January 23rd 2018 and ends February 23rd at midnight\n",
    "r = requests.get('https://hourlypricing.comed.com/api?type=5minutefeed&datestart=201801230000&dateend=201802230000&format=json')\n",
    "print(r)"
   ]
  },
  {
   "cell_type": "code",
   "execution_count": 5,
   "metadata": {
    "collapsed": true
   },
   "outputs": [],
   "source": [
    "#Put price data into list\n",
    "obj = r.json()\n",
    "pricetemp = []\n",
    "temp = []\n",
    "for i in range(len(obj)):\n",
    "    pricetemp.append(obj[i]['price'])\n",
    "pricetemp = list(reversed(pricetemp))\n",
    "price = pricetemp[:-(len(pricetemp)%12)]"
   ]
  },
  {
   "cell_type": "code",
   "execution_count": 6,
   "metadata": {},
   "outputs": [
    {
     "data": {
      "text/plain": [
       "(715,)"
      ]
     },
     "execution_count": 6,
     "metadata": {},
     "output_type": "execute_result"
    }
   ],
   "source": [
    "#Get hourly data as average of 12 consecutive 5-minute interval prices\n",
    "price = np.array(price).astype(np.float)\n",
    "price = np.nanmean(price.reshape(-1, 12), axis=1)\n",
    "price.shape"
   ]
  },
  {
   "cell_type": "code",
   "execution_count": 7,
   "metadata": {},
   "outputs": [
    {
     "data": {
      "text/plain": [
       "(715,)"
      ]
     },
     "execution_count": 7,
     "metadata": {},
     "output_type": "execute_result"
    }
   ],
   "source": [
    "#Shorten Usage data to correspond to price data\n",
    "usagesmall = usage[0:len(price)]\n",
    "usagesmall.shape"
   ]
  },
  {
   "cell_type": "code",
   "execution_count": 8,
   "metadata": {},
   "outputs": [
    {
     "name": "stdout",
     "output_type": "stream",
     "text": [
      "0.09737167275217826 0.009179223505801245\n"
     ]
    }
   ],
   "source": [
    "#Find correlation between price and usage\n",
    "priceusagecor, pval = pearsonr(price,usagesmall)\n",
    "print(priceusagecor,pval)"
   ]
  },
  {
   "cell_type": "code",
   "execution_count": 9,
   "metadata": {
    "collapsed": true
   },
   "outputs": [],
   "source": [
    "#Arima Modeling Imports:\n",
    "from pandas import DataFrame\n",
    "import statsmodels.api as sm\n",
    "from statsmodels.tsa.arima_model import ARIMA\n",
    "from matplotlib import pyplot\n",
    "from sklearn.metrics import mean_squared_error\n"
   ]
  },
  {
   "cell_type": "code",
   "execution_count": 10,
   "metadata": {
    "collapsed": true
   },
   "outputs": [],
   "source": [
    "#Remove 24 hours from data to make a test set and a train set\n",
    "testsize = 24\n",
    "trainprice = price[:-testsize].tolist()\n",
    "testprice = price[-testsize:].tolist()\n",
    "trainusage = usagesmall[:-testsize].tolist()\n",
    "testusage = usagesmall[-testsize:].tolist()"
   ]
  },
  {
   "cell_type": "code",
   "execution_count": 11,
   "metadata": {},
   "outputs": [
    {
     "name": "stdout",
     "output_type": "stream",
     "text": [
      "                                 Statespace Model Results                                 \n",
      "==========================================================================================\n",
      "Dep. Variable:                                  y   No. Observations:                  691\n",
      "Model:             SARIMAX(1, 1, 3)x(1, 1, 1, 24)   Log Likelihood                -844.373\n",
      "Date:                            Thu, 04 Apr 2019   AIC                           1702.746\n",
      "Time:                                    20:49:18   BIC                           1734.255\n",
      "Sample:                                         0   HQIC                          1714.954\n",
      "                                            - 691                                         \n",
      "Covariance Type:                              opg                                         \n",
      "==============================================================================\n",
      "                 coef    std err          z      P>|z|      [0.025      0.975]\n",
      "------------------------------------------------------------------------------\n",
      "ar.L1         -0.9755      0.049    -19.939      0.000      -1.071      -0.880\n",
      "ma.L1          0.3779      0.053      7.102      0.000       0.274       0.482\n",
      "ma.L2         -0.8556      0.041    -20.838      0.000      -0.936      -0.775\n",
      "ma.L3         -0.2886      0.022    -13.072      0.000      -0.332      -0.245\n",
      "ar.S.L24       0.1211      0.030      4.082      0.000       0.063       0.179\n",
      "ma.S.L24      -1.0000     46.601     -0.021      0.983     -92.337      90.337\n",
      "sigma2         0.6595     30.720      0.021      0.983     -59.550      60.869\n",
      "===================================================================================\n",
      "Ljung-Box (Q):                       34.13   Jarque-Bera (JB):             44283.79\n",
      "Prob(Q):                              0.73   Prob(JB):                         0.00\n",
      "Heteroskedasticity (H):               0.74   Skew:                             3.73\n",
      "Prob(H) (two-sided):                  0.03   Kurtosis:                        42.25\n",
      "===================================================================================\n",
      "\n",
      "Warnings:\n",
      "[1] Covariance matrix calculated using the outer product of gradients (complex-step).\n"
     ]
    }
   ],
   "source": [
    "#Use Arima Model to fit price data\n",
    "pricemodel = sm.tsa.statespace.SARIMAX(endog = trainprice, order=(1,1,3),seasonal_order=(1,1,1,24))\n",
    "pricemodel_fit = pricemodel.fit(disp=0)\n",
    "print(pricemodel_fit.summary())"
   ]
  },
  {
   "cell_type": "code",
   "execution_count": 12,
   "metadata": {},
   "outputs": [
    {
     "name": "stdout",
     "output_type": "stream",
     "text": [
      "                                 Statespace Model Results                                 \n",
      "==========================================================================================\n",
      "Dep. Variable:                                  y   No. Observations:                  691\n",
      "Model:             SARIMAX(1, 1, 1)x(1, 1, 1, 24)   Log Likelihood                 253.653\n",
      "Date:                            Thu, 04 Apr 2019   AIC                           -497.305\n",
      "Time:                                    20:49:26   BIC                           -474.799\n",
      "Sample:                                         0   HQIC                          -488.585\n",
      "                                            - 691                                         \n",
      "Covariance Type:                              opg                                         \n",
      "==============================================================================\n",
      "                 coef    std err          z      P>|z|      [0.025      0.975]\n",
      "------------------------------------------------------------------------------\n",
      "ar.L1          0.5121      0.049     10.363      0.000       0.415       0.609\n",
      "ma.L1         -0.8261      0.036    -22.859      0.000      -0.897      -0.755\n",
      "ar.S.L24      -0.0381      0.040     -0.946      0.344      -0.117       0.041\n",
      "ma.S.L24      -0.9203      0.029    -31.759      0.000      -0.977      -0.864\n",
      "sigma2         0.0255      0.001     22.924      0.000       0.023       0.028\n",
      "===================================================================================\n",
      "Ljung-Box (Q):                       32.42   Jarque-Bera (JB):               120.26\n",
      "Prob(Q):                              0.80   Prob(JB):                         0.00\n",
      "Heteroskedasticity (H):               0.93   Skew:                             0.05\n",
      "Prob(H) (two-sided):                  0.60   Kurtosis:                         5.08\n",
      "===================================================================================\n",
      "\n",
      "Warnings:\n",
      "[1] Covariance matrix calculated using the outer product of gradients (complex-step).\n"
     ]
    }
   ],
   "source": [
    "#Use Arima Model to fit usage data\n",
    "usagemodel = sm.tsa.statespace.SARIMAX(endog = trainusage, order=(1,1,1),seasonal_order=(1,1,1,24))\n",
    "usagemodel_fit = usagemodel.fit(disp=0)\n",
    "print(usagemodel_fit.summary())"
   ]
  },
  {
   "cell_type": "code",
   "execution_count": 13,
   "metadata": {},
   "outputs": [
    {
     "name": "stdout",
     "output_type": "stream",
     "text": [
      "0.2121656658348304\n"
     ]
    },
    {
     "data": {
      "image/png": "[encoded data removed]",
      "text/plain": [
       "<matplotlib.figure.Figure at 0x11d373ef0>"
      ]
     },
     "metadata": {},
     "output_type": "display_data"
    }
   ],
   "source": [
    "#Plot prediction of price data\n",
    "predprice = pricemodel_fit.predict(start = len(trainprice), end = len(trainprice)-1 +testsize, dynamic = True)\n",
    "pricemax = np.array(predprice) + np.std(trainprice)\n",
    "pricemin = np.array(predprice) - np.std(trainprice)\n",
    "\n",
    "hr = np.arange(testsize)\n",
    "print(mean_squared_error(predprice,testprice))\n",
    "fig, ax = plt.subplots()\n",
    "predicted, = plt.plot(hr, predprice)\n",
    "real, = plt.plot(hr,testprice)\n",
    "plt.xlabel('time (hr)')\n",
    "plt.ylabel('price per kWh (cents)')\n",
    "plt.title('Hourly price with predicted price for February 25th 2018')\n",
    "plt.legend([predicted,real],['Predicted','Real'])\n",
    "ax.fill_between(hr,pricemax, pricemin,facecolor='green', alpha=0.2,)\n",
    "plt.show()\n",
    "#plt.savefig('pricepred')"
   ]
  },
  {
   "cell_type": "code",
   "execution_count": 14,
   "metadata": {},
   "outputs": [
    {
     "data": {
      "image/png": "[encoded data removed]",
      "text/plain": [
       "<matplotlib.figure.Figure at 0x137fece80>"
      ]
     },
     "metadata": {},
     "output_type": "display_data"
    }
   ],
   "source": [
    "#Plot prediction of usage data\n",
    "predusage = usagemodel_fit.predict(start = len(trainusage), end = len(trainusage)-1 +testsize, dynamic = True)\n",
    "usagemax = np.array(predusage) + np.std(trainusage)\n",
    "usagemin = np.array(predusage) - np.std(trainusage)\n",
    "\n",
    "#print(mean_squared_error(predusage,testusage))\n",
    "fig, ax = plt.subplots()\n",
    "predicted, = plt.plot(hr, predusage)\n",
    "real, = plt.plot(hr,testusage)\n",
    "plt.xlabel('time (hr)')\n",
    "plt.ylabel('usage (kWh)')\n",
    "plt.title('Hourly usage with predicted usage for February 25th 2018')\n",
    "plt.legend([predicted,real],['Predicted','Real'])\n",
    "ax.fill_between(hr,usagemax, usagemin,facecolor='green', alpha=0.2,)\n",
    "plt.show()\n",
    "#plt.savefig('UsagePred')"
   ]
  },
  {
   "cell_type": "code",
   "execution_count": 15,
   "metadata": {},
   "outputs": [
    {
     "name": "stdout",
     "output_type": "stream",
     "text": [
      "-16.607317611356557\n"
     ]
    }
   ],
   "source": [
    "#Assuming we are using a powerwall, plan battery usage\n",
    "#We assume we have 14 kwh of storage and can charge or release 5kw at a time. \n",
    "#We assume no net metering. We must use all power that we take from battery\n",
    "maxpower = 5.\n",
    "maxenergy = 14.\n",
    "#mins ensures energy used during an hour is less than max power and less than energy usage that hour\n",
    "#mins also ensures that the sum of energy stored is never negative\n",
    "mins = np.ones(len(predusage))*-maxpower\n",
    "minsusage = -np.array(predusage)\n",
    "mins = np.maximum(mins,minsusage)\n",
    "mins = np.concatenate((mins,np.zeros(len(predusage))))\n",
    "#maxs ensures energy stored during an hour in less than max power\n",
    "#maxs also ensures that the sum of energy stored is always less that battery capacity\n",
    "maxs = np.ones(len(predusage))*maxpower\n",
    "maxs = np.concatenate((maxs,np.ones(len(predusage))*maxenergy))\n",
    "\n",
    "print(np.sum(minsusage))"
   ]
  },
  {
   "cell_type": "code",
   "execution_count": 16,
   "metadata": {},
   "outputs": [
    {
     "name": "stdout",
     "output_type": "stream",
     "text": [
      "Optimal value: -8.70552257168287 \n",
      "X: [ 0.75403358 -0.75403358  5.          3.10536883  5.         -0.60899167\n",
      " -0.59256672 -0.58648282 -0.6206499  -0.59801039 -0.60124411 -0.67176148\n",
      " -0.79107164 -0.85997637 -0.87697503 -0.78088306 -0.77959659 -0.7311482\n",
      " -0.67984767 -0.62023029 -0.59215119 -0.59123301 -0.72790022 -0.79464847]\n"
     ]
    }
   ],
   "source": [
    "#Optimize battery usage to save most money\n",
    "from scipy.optimize import linprog\n",
    "\n",
    "A_max = np.concatenate((np.identity(24), np.tril(np.ones(24))))\n",
    "\n",
    "b_max = maxs\n",
    "\n",
    "A_min = np.concatenate((np.identity(24), np.tril(np.ones(24))))\n",
    "\n",
    "b_min = mins\n",
    "\n",
    "A_ub = np.concatenate((A_max, -A_min))\n",
    "\n",
    "b_ub = np.concatenate((b_max,-b_min))\n",
    "\n",
    "\n",
    "c = np.array(predprice)\n",
    "\n",
    "res = linprog(c, A_ub=A_ub, b_ub=b_ub,\n",
    "bounds=(-5., 5.))\n",
    "print('Optimal value:', res.fun, '\\nX:', res.x)"
   ]
  },
  {
   "cell_type": "code",
   "execution_count": 17,
   "metadata": {},
   "outputs": [
    {
     "name": "stdout",
     "output_type": "stream",
     "text": [
      "0.7540335811275911\n",
      "0.16403358112759114\n",
      "5.164033581127591\n",
      "8.269402410654891\n",
      "13.269402410654891\n",
      "12.60940241065489\n",
      "11.96940241065489\n",
      "11.37940241065489\n",
      "10.696677723514489\n",
      "10.098667331730006\n",
      "9.497423220785887\n",
      "8.825661735906621\n",
      "8.03459009195597\n",
      "7.174613726913424\n",
      "6.297638693830408\n",
      "5.577638693830409\n",
      "4.807638693830409\n",
      "4.006010851511537\n",
      "3.326163181523409\n",
      "2.705932894857316\n",
      "2.113781700393332\n",
      "1.5225486861465534\n",
      "0.7946484682119301\n",
      "8.881784197001252e-16\n",
      "8.881784197001252e-16\n"
     ]
    }
   ],
   "source": [
    "#Update battery usage based on actual usage data for the day.\n",
    "#If we allotted more energy for an hour than used, we can use it in following hours\n",
    "\n",
    "batteryusage = np.maximum(res.x, -np.array(testusage))\n",
    "sum(batteryusage)\n",
    "\n",
    "batterytotal = 0.\n",
    "extraBattery= 0\n",
    "for i in range(len(batteryusage)):\n",
    "    extraBattery += batteryusage[i] - res.x[i]\n",
    "    insufficientBattery = testusage[i] + batteryusage[i]\n",
    "\n",
    "    if(insufficientBattery>0 and batteryusage[i]<=0):\n",
    "        subtractFromBattery = np.minimum(insufficientBattery,extraBattery)\n",
    "        extraBattery -= subtractFromBattery\n",
    "        batteryusage[i] -= subtractFromBattery\n",
    "\n",
    "    batterytotal += batteryusage[i]\n",
    "    if(batterytotal>maxenergy):\n",
    "        batteryusage[i] -= (batterytotal-maxenergy)\n",
    "        batterytotal -= (batterytotal-maxenergy)\n",
    "        \n",
    "    if(batterytotal<0):\n",
    "        batteryusage[i] -= (batterytotal)\n",
    "        batterytotal -= (batterytotal)\n",
    "\n",
    "    print(batterytotal)\n",
    "print(sum(batteryusage))\n",
    "\n"
   ]
  },
  {
   "cell_type": "code",
   "execution_count": 18,
   "metadata": {},
   "outputs": [
    {
     "name": "stdout",
     "output_type": "stream",
     "text": [
      "-4.440892098500626e-16\n"
     ]
    }
   ],
   "source": [
    "#Plot battery usage\n",
    "print(np.sum(batteryusage))\n",
    "fig, ax = plt.subplots()\n",
    "battery, = plt.plot(hr, batteryusage)\n",
    "usageplot, = plt.plot(hr,testusage)\n",
    "plt.xlabel('time (hr)')\n",
    "plt.ylabel('usage (kWh)')\n",
    "plt.title('Hourly home usage and battery usage for February 4th 2019')\n",
    "plt.legend([battery,usageplot],['Net Energy input to Battery','Energy Usage of Building'])\n",
    "#plt.show()\n",
    "plt.savefig('BatteryControl')"
   ]
  },
  {
   "cell_type": "code",
   "execution_count": 19,
   "metadata": {
    "collapsed": true
   },
   "outputs": [],
   "source": [
    "#Calculate total expense on energy\n",
    "totExp = np.sum(np.multiply((batteryusage + testusage),testprice)) - np.sum(batteryusage)*np.min(testprice)"
   ]
  },
  {
   "cell_type": "code",
   "execution_count": 20,
   "metadata": {
    "collapsed": true
   },
   "outputs": [],
   "source": [
    "#Calculate what you would have paid without battery\n",
    "noBatteryExp = np.sum(np.multiply((testusage),testprice))"
   ]
  },
  {
   "cell_type": "code",
   "execution_count": 21,
   "metadata": {},
   "outputs": [
    {
     "name": "stdout",
     "output_type": "stream",
     "text": [
      "Money Saved is\n",
      "8.10421917987918\n",
      "Percent Saved is\n",
      "17.210338197952147\n"
     ]
    }
   ],
   "source": [
    "print('Money Saved is')\n",
    "print(noBatteryExp - totExp)\n",
    "print('Percent Saved is')\n",
    "print((noBatteryExp - totExp)/noBatteryExp*100)"
   ]
  },
  {
   "cell_type": "code",
   "execution_count": null,
   "metadata": {},
   "outputs": [],
   "source": []
  }
 ],
 "metadata": {
  "kernelspec": {
   "display_name": "Python 3",
   "language": "python",
   "name": "python3"
  },
  "language_info": {
   "codemirror_mode": {
    "name": "ipython",
    "version": 3
   },
   "file_extension": ".py",
   "mimetype": "text/x-python",
   "name": "python",
   "nbconvert_exporter": "python",
   "pygments_lexer": "ipython3",
   "version": "3.6.5"
  }
 },
 "nbformat": 4,
 "nbformat_minor": 2
}
